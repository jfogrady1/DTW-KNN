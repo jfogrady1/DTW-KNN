{
 "cells": [
  {
   "cell_type": "markdown",
   "id": "aa2093d8",
   "metadata": {},
   "source": [
    "# Dynamic Time Warp / KNN notebook\n",
    "## Author: John O'Grady\n",
    "### Objective:\n",
    "The objective of this assignment is to implement and test a k-Nearest Neighbour (k-NN) classifier for time-series data. One of the big benefits of k-NN is that it can be used with data that is not in the normal feature vector format if a distance measure for that data can be found. Dynamic time warping (DTW) is such a measure for time series"
   ]
  },
  {
   "cell_type": "markdown",
   "id": "4904adc0",
   "metadata": {},
   "source": [
    "### Importing libraries/data and setting up a DTW function"
   ]
  },
  {
   "cell_type": "code",
   "execution_count": 1,
   "id": "55a66772",
   "metadata": {},
   "outputs": [],
   "source": [
    "# Import relevant libraries\n",
    "import pandas as pd # for handling data frames\n",
    "import numpy as np # for formating arrays\n",
    "from sklearn.neighbors import KNeighborsClassifier # KNN function in Sklearn for classificaiton\n",
    "from sklearn import preprocessing # sklearn function for data normalisation\n",
    "from sklearn.model_selection import train_test_split # Function splitting data into test and train for model evaluation\n",
    "from sklearn.metrics import confusion_matrix # evaluation of accuracy\n",
    "from sklearn.metrics import roc_curve, auc # roc curves\n",
    "from sklearn.metrics import confusion_matrix, accuracy_score, ConfusionMatrixDisplay # help us to display confusion matrix and accuracy\n",
    "from matplotlib import pyplot as plt # for plotting\n",
    "from sklearn.metrics import classification_report # for reporting precision, recall, f1 , accuracy"
   ]
  },
  {
   "cell_type": "code",
   "execution_count": 2,
   "id": "778e54bb",
   "metadata": {},
   "outputs": [
    {
     "data": {
      "text/html": [
       "<div>\n",
       "<style scoped>\n",
       "    .dataframe tbody tr th:only-of-type {\n",
       "        vertical-align: middle;\n",
       "    }\n",
       "\n",
       "    .dataframe tbody tr th {\n",
       "        vertical-align: top;\n",
       "    }\n",
       "\n",
       "    .dataframe thead th {\n",
       "        text-align: right;\n",
       "    }\n",
       "</style>\n",
       "<table border=\"1\" class=\"dataframe\">\n",
       "  <thead>\n",
       "    <tr style=\"text-align: right;\">\n",
       "      <th></th>\n",
       "      <th>Class</th>\n",
       "      <th>1</th>\n",
       "      <th>2</th>\n",
       "      <th>3</th>\n",
       "      <th>4</th>\n",
       "      <th>5</th>\n",
       "      <th>6</th>\n",
       "      <th>7</th>\n",
       "      <th>8</th>\n",
       "      <th>9</th>\n",
       "      <th>...</th>\n",
       "      <th>141</th>\n",
       "      <th>142</th>\n",
       "      <th>143</th>\n",
       "      <th>144</th>\n",
       "      <th>145</th>\n",
       "      <th>146</th>\n",
       "      <th>147</th>\n",
       "      <th>148</th>\n",
       "      <th>149</th>\n",
       "      <th>150</th>\n",
       "    </tr>\n",
       "  </thead>\n",
       "  <tbody>\n",
       "    <tr>\n",
       "      <th>0</th>\n",
       "      <td>1.0</td>\n",
       "      <td>0.017644</td>\n",
       "      <td>0.030949</td>\n",
       "      <td>0.050555</td>\n",
       "      <td>0.044484</td>\n",
       "      <td>0.053277</td>\n",
       "      <td>0.041576</td>\n",
       "      <td>0.030947</td>\n",
       "      <td>0.027086</td>\n",
       "      <td>0.013764</td>\n",
       "      <td>...</td>\n",
       "      <td>0.024575</td>\n",
       "      <td>0.03378</td>\n",
       "      <td>0.026589</td>\n",
       "      <td>0.013932</td>\n",
       "      <td>0.024928</td>\n",
       "      <td>0.022589</td>\n",
       "      <td>0.038248</td>\n",
       "      <td>0.049838</td>\n",
       "      <td>0.053419</td>\n",
       "      <td>0.04042</td>\n",
       "    </tr>\n",
       "  </tbody>\n",
       "</table>\n",
       "<p>1 rows × 151 columns</p>\n",
       "</div>"
      ],
      "text/plain": [
       "   Class         1         2         3         4         5         6  \\\n",
       "0    1.0  0.017644  0.030949  0.050555  0.044484  0.053277  0.041576   \n",
       "\n",
       "          7         8         9  ...       141      142       143       144  \\\n",
       "0  0.030947  0.027086  0.013764  ...  0.024575  0.03378  0.026589  0.013932   \n",
       "\n",
       "        145       146       147       148       149      150  \n",
       "0  0.024928  0.022589  0.038248  0.049838  0.053419  0.04042  \n",
       "\n",
       "[1 rows x 151 columns]"
      ]
     },
     "execution_count": 2,
     "metadata": {},
     "output_type": "execute_result"
    }
   ],
   "source": [
    "# Import data required for the practical\n",
    "# View the data output\n",
    "time_series_data = pd.read_csv(\"UMD_TEST.txt\", delim_whitespace=True, header=None) # Read in the file, no header, white spaced file\n",
    "time_series_data.rename(columns={time_series_data.columns[0]: \"Class\" }, inplace = True) # rename the class column\n",
    "time_series_data.head(1)# Check our the first rows"
   ]
  },
  {
   "cell_type": "code",
   "execution_count": 3,
   "id": "9e6cef06",
   "metadata": {},
   "outputs": [
    {
     "data": {
      "text/plain": [
       "(144, 151)"
      ]
     },
     "execution_count": 3,
     "metadata": {},
     "output_type": "execute_result"
    }
   ],
   "source": [
    "# Check the dimensions of the original data\n",
    "# needs to be 144 rows long and 151 ticks long (1 tick corresponds to Class labels)\n",
    "#- as is specified in https://www.timeseriesclassification.com/description.php?Dataset=UMD\n",
    "# Also, as data is all on the same scale (see webpage above, no need to normlaise)\n",
    "# Also, DTW function (below) and Manhatten distance calculation deal in absolute distance and \n",
    "# Euclidean distance also squares distance values removing the threat posed by negative integers.\n",
    "time_series_data.shape "
   ]
  },
  {
   "cell_type": "code",
   "execution_count": 4,
   "id": "960a1cba",
   "metadata": {},
   "outputs": [
    {
     "data": {
      "text/plain": [
       "((144, 151), 144, (144, 150))"
      ]
     },
     "execution_count": 4,
     "metadata": {},
     "output_type": "execute_result"
    }
   ],
   "source": [
    "# Reformatting and copying of data\n",
    "# Extract the class values from the data\n",
    "# Retain the time series data values\n",
    "time_series_raw = time_series_data.copy() # make a copy of the data, need it below for a test of the dtw funciton\n",
    "ts_classes = time_series_data.pop(\"Class\").values # Pop off the labels\n",
    "ts_values = time_series_data.values # retain the values\n",
    "time_series_raw.shape, ts_classes.shape[0], ts_values.shape # View the dimensions"
   ]
  },
  {
   "cell_type": "code",
   "execution_count": 5,
   "id": "cafb4c87",
   "metadata": {},
   "outputs": [
    {
     "name": "stdout",
     "output_type": "stream",
     "text": [
      "Class Number\n"
     ]
    },
    {
     "data": {
      "text/plain": [
       "1.0    48\n",
       "2.0    48\n",
       "3.0    48\n",
       "Name: Class, dtype: int64"
      ]
     },
     "execution_count": 5,
     "metadata": {},
     "output_type": "execute_result"
    }
   ],
   "source": [
    "# Find out how many of each class are in the data\n",
    "print(\"Class\", \"Number\")\n",
    "time_series_raw[\"Class\"].value_counts()"
   ]
  },
  {
   "cell_type": "markdown",
   "id": "3e359a18",
   "metadata": {},
   "source": [
    "#### Basic DTW Code\n",
    "Code from https://towardsdatascience.com/dynamic-time-warping-3933f25fcdd  \n",
    "This code implements a simple DTW measure between two series represented as lists.  \n",
    "It allows for series of different lengths and has a `window` parameter that determines the amount of warping allowed.  \n",
    "For series of different lengths, the minimum warping will be the difference in the lengths.  "
   ]
  },
  {
   "cell_type": "code",
   "execution_count": 6,
   "id": "70d4eacd",
   "metadata": {},
   "outputs": [],
   "source": [
    "def dtw(s, t, window): \n",
    "    n, m = len(s), len(t)\n",
    "    w = np.max([window, abs(n-m)]) # warping cannot be less than the difference in lengths. \n",
    "    dtw_matrix = np.zeros((n+1, m+1))\n",
    "    \n",
    "    for i in range(n+1):\n",
    "        for j in range(m+1):\n",
    "            dtw_matrix[i, j] = np.inf\n",
    "    dtw_matrix[0, 0] = 0\n",
    "    \n",
    "    for i in range(1, n+1):\n",
    "        for j in range(np.max([1, i-w]), np.min([m, i+w])+1):\n",
    "            dtw_matrix[i, j] = 0\n",
    "    \n",
    "    for i in range(1, n+1):\n",
    "        for j in range(np.max([1, i-w]), np.min([m, i+w])+1):\n",
    "            cost = abs(s[i-1] - t[j-1])\n",
    "            # take last min from a square box\n",
    "            last_min = np.min([dtw_matrix[i-1, j], dtw_matrix[i, j-1], dtw_matrix[i-1, j-1]])\n",
    "            dtw_matrix[i, j] = cost + last_min\n",
    "    return dtw_matrix[-1,-1]"
   ]
  },
  {
   "cell_type": "markdown",
   "id": "1a93729c",
   "metadata": {},
   "source": [
    "## Task 1: 1-NN DTW\n",
    "### __1.  Implement a simple 1-NN classifier for time-series data.__\n"
   ]
  },
  {
   "cell_type": "code",
   "execution_count": 7,
   "id": "5f87b9f1",
   "metadata": {},
   "outputs": [],
   "source": [
    "# Initialise the funciton\n",
    "def DTW_NN(query, df, window, class_train): \n",
    "    \"\"\"query refers to the time series query of interest for classification.\n",
    "       df refers to the numpy.ndarray which consists of all example points to compare query to.\n",
    "       window refers to the window/warping paramater: integer.\n",
    "       class_train refers to a vector with the class labels corresponding to the rows in the df paramater\"\"\"\n",
    "    \n",
    "    dtw_values = list() # set up an empty list for our dtw values. A new distance value will be appended at each iteration\n",
    "    class_values = list()# set up an empty list for our class labels. A new value will be appended at each iteration\n",
    "    \n",
    "    for i in range(0, len(df)): # cycle through every row in the reference data frame\n",
    "        train_array = df[i]\n",
    "        train_class = class_train[i] # extract the class label for the training set\n",
    "        dist = dtw(s=query,t=train_array,window=window) # calcualte the distance between a row's time-series data and the query\n",
    "        dtw_values.append(dist) # append to our list\n",
    "        class_values.append(train_class) # the class label for the row and the distance to the query are then stored in a dictionary\n",
    "    \n",
    "    # We now have 2 lists\n",
    "        # 1: list of distances between a query and each row example\n",
    "        # 2: the classification of every example data point in the same order as list 1\n",
    "    \n",
    "    # To calculate the 1-NN\n",
    "    min_value = min(dtw_values) # find value which represents the smallest distance between the query and an example point in the df\n",
    "    min_index = dtw_values.index(min_value) # get the index of that value\n",
    "    Class_final = class_values[min_index] # get the class of the NN to the query\n",
    "    return Class_final, min_value  # return the class label of the query and the distance to it's nearest point in the DF and index in the dtw_values."
   ]
  },
  {
   "cell_type": "markdown",
   "id": "1268852a",
   "metadata": {},
   "source": [
    "#### Testing the 1NN-DTW Classifier"
   ]
  },
  {
   "cell_type": "code",
   "execution_count": 8,
   "id": "287546b2",
   "metadata": {},
   "outputs": [
    {
     "name": "stdout",
     "output_type": "stream",
     "text": [
      "Class is 2.0, distance to nearest neighbour is 0.0\n"
     ]
    }
   ],
   "source": [
    "# Get data ready for testing the 1 NN\n",
    "query_classes = time_series_raw.pop(\"Class\") # get classes\n",
    "queries = time_series_raw.values # get the values\n",
    "\n",
    "# Try it on row 49\n",
    "test_NN_class = query_classes[48] # get class\n",
    "test_NN_data = queries[48] # get the time series data\n",
    "func_test = DTW_NN(query = test_NN_data, df = queries, window = 0, class_train = query_classes) # run function\n",
    "# look at output (class, distance to nearest point)\n",
    "print(f'Class is {func_test[0]}, distance to nearest neighbour is {func_test[1]}')"
   ]
  },
  {
   "cell_type": "markdown",
   "id": "31cfef39",
   "metadata": {},
   "source": [
    "#### Summary"
   ]
  },
  {
   "cell_type": "markdown",
   "id": "12c02897",
   "metadata": {},
   "source": [
    "We have built and tested a simple 1-NN DTW classifier for time-series data. The classifier takes in time series data from a query point and a training set of example points on which the query is compared to. It also takes in class labels corresponding to the rows in the training set. The classifier leverages a __dynamic time warp (DTW) function__ to calculate the distance between the query and all other example points in the data frame. It returns the class label of the nearest neighbour in addition to the distance between the query and its nearest neighbour. The amount of __warping__ can be specified with the `window` parameter. In the above case, the classifier identifies itself in the dataset and returns its correct label and a distance of 0"
   ]
  },
  {
   "cell_type": "markdown",
   "id": "271875e4",
   "metadata": {},
   "source": [
    "### 2. Test the performance of this classifier on the dataset provided in the file UMD_TEST.txt."
   ]
  },
  {
   "cell_type": "markdown",
   "id": "c6a43ef5",
   "metadata": {},
   "source": [
    "#### DTW method"
   ]
  },
  {
   "cell_type": "code",
   "execution_count": 9,
   "id": "f4caedab",
   "metadata": {},
   "outputs": [],
   "source": [
    "# Need to split the dataset into test and train\n",
    "# Set a reasonable test size of 40% (n = 58)\n",
    "# This is a hold out testing strategy\n",
    "ts_train, ts_test, ts_train_classes, ts_test_classes = train_test_split(ts_values, # time series values for each point\n",
    "                                                                        ts_classes, # classes of the dataset to split on\n",
    "                                                                        random_state=3345, # setting the seed for reproductibiliy \n",
    "                                                                        test_size=0.4 # test size of 40%\n",
    "                                                                       )"
   ]
  },
  {
   "cell_type": "code",
   "execution_count": 10,
   "id": "5ae8e543",
   "metadata": {},
   "outputs": [
    {
     "name": "stdout",
     "output_type": "stream",
     "text": [
      "Predicted Class: [2. 1. 1. 2. 2. 2. 2. 1. 1. 1. 1. 2. 1. 3.]\n",
      "     Real Class: [2. 1. 3. 1. 2. 2. 2. 1. 1. 1. 1. 3. 1. 3.]\n"
     ]
    }
   ],
   "source": [
    "# initialise a list which will collect our class values\n",
    "predicted_classes = list()\n",
    "\n",
    "# cycle through the test dataset\n",
    "for i in range(0,len(ts_test)):\n",
    "    query = ts_test[i]  # get the query of interest from the test set\n",
    "    y_dash = DTW_NN(query = query, # our query data point\n",
    "                    df = ts_train, # our training data on which to compare\n",
    "                    window = 0, # window size of 0\n",
    "                    class_train=ts_train_classes)[0] #  0 just to get the class here\n",
    "    predicted_classes.append(y_dash) # append the predicted class to our list\n",
    "\n",
    "    \n",
    "predicted_classes = np.array(predicted_classes) # convert to a numpy array (may be important in confusion matrix) \n",
    "\n",
    "# View a subset of the results\n",
    "print('Predicted Class:',predicted_classes[0:14])\n",
    "print('     Real Class:',ts_test_classes[0:14])"
   ]
  },
  {
   "cell_type": "code",
   "execution_count": 11,
   "id": "54272ed9",
   "metadata": {
    "scrolled": true
   },
   "outputs": [
    {
     "name": "stdout",
     "output_type": "stream",
     "text": [
      "Confusion matrix:\n",
      "[[20  1  1]\n",
      " [ 0 19  0]\n",
      " [ 2  3 12]]\n",
      "The total number of each class: (array([1., 2., 3.]), array([22, 19, 17], dtype=int64))\n"
     ]
    }
   ],
   "source": [
    "# Evaluate the classifiaction using a *simple* confusion matrix\n",
    "# Columns are predictions, rows are true labels\n",
    "confusion = confusion_matrix(ts_test_classes, predicted_classes)\n",
    "print(\"Confusion matrix:\\n{}\".format(confusion)) \n",
    "\n",
    "# Print to see how many samples of each class are in the test dataset\n",
    "print(\"The total number of each class:\", np.unique(ts_test_classes, return_counts = True))"
   ]
  },
  {
   "cell_type": "code",
   "execution_count": 12,
   "id": "9c7dca6f",
   "metadata": {},
   "outputs": [
    {
     "data": {
      "text/plain": [
       "<sklearn.metrics._plot.confusion_matrix.ConfusionMatrixDisplay at 0x268f0575700>"
      ]
     },
     "execution_count": 12,
     "metadata": {},
     "output_type": "execute_result"
    },
    {
     "data": {
      "image/png": "[encoded data removed]",
      "text/plain": [
       "<Figure size 216x216 with 2 Axes>"
      ]
     },
     "metadata": {
      "needs_background": "light"
     },
     "output_type": "display_data"
    }
   ],
   "source": [
    "# Plot the confusion matrix\n",
    "confusion = confusion_matrix(ts_test_classes, predicted_classes, labels=[1, 2, 3])\n",
    "disp = ConfusionMatrixDisplay(confusion, display_labels=[1,2,3])\n",
    "fig, ax = plt.subplots(figsize=(3,3))\n",
    "plt.suptitle(\"Confusion Matrix for 1NN-DTW Classifier\", weight = \"bold\")\n",
    "disp.plot(ax=ax)"
   ]
  },
  {
   "cell_type": "code",
   "execution_count": 13,
   "id": "4ee333c5",
   "metadata": {},
   "outputs": [
    {
     "name": "stdout",
     "output_type": "stream",
     "text": [
      "Evaluation Report for 1NN DTW evaluation:\n",
      "              precision    recall  f1-score   support\n",
      "\n",
      "           1       0.91      0.91      0.91        22\n",
      "           2       0.83      1.00      0.90        19\n",
      "           3       0.92      0.71      0.80        17\n",
      "\n",
      "    accuracy                           0.88        58\n",
      "   macro avg       0.89      0.87      0.87        58\n",
      "weighted avg       0.89      0.88      0.88        58\n",
      "\n"
     ]
    }
   ],
   "source": [
    "# Use classification report function to get precision/recall/f1-score\n",
    "report = classification_report(ts_test_classes, predicted_classes, target_names = [\"1\",\"2\",\"3\"]) # set labels to what we want\n",
    "print(\"Evaluation Report for 1NN DTW evaluation:\\n{}\".format(report))  # print report to the screen"
   ]
  },
  {
   "cell_type": "markdown",
   "id": "f7e677e9",
   "metadata": {},
   "source": [
    "#### Basic summary of test-train split, accuracy and dimensions\n",
    "The overall accuracy of the 1NN DTW classifier is 0.88 with at a window size of 0. This accuracy was achieved with a test size of _n_ = 58 (40% of the UMD dataset). The test dataset is reasonably well balanced with _n_ = 22 Class 1, _n_ = 19 Class 2 and _n_ =17 Class 3 query points available and therefore, an accuracy metric is an appropriate metric to judge the classifier on. However, a more detailed description is provided below. \n",
    "\n",
    "#### Detailed summary of evaluation of 1NN DTW Classifier\n",
    "Based on the confusion matrix and report above, the 1NN DTW function was 100% successful in classifying time series data with the pattern 2 motif as class 2. Hence the recall (out of all samples, what proportion of those identified as class 2 are class 2) is 100%. The precision (for a particular class, what proportion are correctly classified as that class) is lowest for class2 as there are some query points (total of 4) are misclassified as class 2 resulting in a precision value of 0.83.\n",
    "\n",
    "The recall on datapoints with the class 3 was very poor (0.71) as 2 and 3 data points were predicted to belong to the class 1 and class 2 classes respectively, instead of class 3. The precision of the classifier for class 3 datapoints was good (0.92) however this should be interpreted cautiously as the overall sample size for this class is small (_n_ = 17)\n",
    "\n",
    "\n",
    "Datapoints which possessed the class 1 motif had equal precision recall and f1-score, the latter being the highest amongst all the 3 classes. The f1-score is a single measure that trades off precision against recall, for a given level of balance. In other words, given that both the precision and recall were high and balanced and based on the data provided, the 1NN-DTW classifier was best at classifying datapoints with the class 1 motif."
   ]
  },
  {
   "cell_type": "markdown",
   "id": "26351944",
   "metadata": {},
   "source": [
    "### 3. Compare the 1-NN DTW performance with 1-NN Euclidean. \n",
    "- Using Scikitlearn implementation for 1-NN Euclidean"
   ]
  },
  {
   "cell_type": "markdown",
   "id": "cd1ffdcc",
   "metadata": {},
   "source": [
    "#### Manhattan distance - check to see if our DTW code is similar to Manhattan distance"
   ]
  },
  {
   "cell_type": "code",
   "execution_count": 14,
   "id": "a893c796",
   "metadata": {},
   "outputs": [],
   "source": [
    "# setting up the knn instance with neighbours = 1 \n",
    "# p=1 is required for Manhattan\n",
    "# set metric == \"cityblock\" to avoid ambiguity\n",
    "Manhattan_KNN = KNeighborsClassifier(n_neighbors=1, p = 1, metric=\"cityblock\") \n",
    "Manhattan_KNN.fit(ts_train, ts_train_classes) # fit it to the training data\n",
    "\n",
    "\n",
    "# Predict classes in test set\n",
    "class_predic_manhattan = Manhattan_KNN.predict(ts_test)"
   ]
  },
  {
   "cell_type": "code",
   "execution_count": 15,
   "id": "db22585c",
   "metadata": {},
   "outputs": [
    {
     "data": {
      "text/plain": [
       "<sklearn.metrics._plot.confusion_matrix.ConfusionMatrixDisplay at 0x268f0d2f940>"
      ]
     },
     "execution_count": 15,
     "metadata": {},
     "output_type": "execute_result"
    },
    {
     "data": {
      "image/png": "[encoded data removed]",
      "text/plain": [
       "<Figure size 216x216 with 2 Axes>"
      ]
     },
     "metadata": {
      "needs_background": "light"
     },
     "output_type": "display_data"
    }
   ],
   "source": [
    "# Evaluate the classifiaction using a confusion matrix\n",
    "confusion_manhattan = confusion_matrix(ts_test_classes, class_predic_manhattan)\n",
    "disp = ConfusionMatrixDisplay(confusion_manhattan, display_labels=[1,2,3])\n",
    "fig, ax = plt.subplots(figsize=(3,3))\n",
    "plt.suptitle(\"Confusion Matrix for 1NN-Manhattan Classifier\", weight = \"bold\")\n",
    "disp.plot(ax=ax)"
   ]
  },
  {
   "cell_type": "markdown",
   "id": "29ea1c25",
   "metadata": {},
   "source": [
    "#### Euclidean Distance"
   ]
  },
  {
   "cell_type": "code",
   "execution_count": 16,
   "id": "6d556656",
   "metadata": {},
   "outputs": [
    {
     "data": {
      "text/plain": [
       "<sklearn.metrics._plot.confusion_matrix.ConfusionMatrixDisplay at 0x268f0d2f550>"
      ]
     },
     "execution_count": 16,
     "metadata": {},
     "output_type": "execute_result"
    },
    {
     "data": {
      "image/png": "[encoded data removed]",
      "text/plain": [
       "<Figure size 216x216 with 2 Axes>"
      ]
     },
     "metadata": {
      "needs_background": "light"
     },
     "output_type": "display_data"
    }
   ],
   "source": [
    "# setting up the knn instance with neighbours = 1, \n",
    "# p=2 is required for Euclidean distance\n",
    "euclid_KNN = KNeighborsClassifier(n_neighbors=1, p = 2, metric = \"euclidean\")\n",
    "euclid_KNN.fit(ts_train, ts_train_classes) # fit it to the training data\n",
    "class_predic_euclid = euclid_KNN.predict(ts_test)\n",
    "\n",
    "# ----------------------------------------------------------------------------------------------------\n",
    "# Evaluate the classifiaction using a confusion matrix\n",
    "confusion_euclid = confusion_matrix(ts_test_classes, class_predic_euclid)\n",
    "disp = ConfusionMatrixDisplay(confusion_euclid, display_labels=[1,2,3])\n",
    "fig, ax = plt.subplots(figsize=(3,3))\n",
    "plt.suptitle(\"Confusion Matrix for 1NN-Euclidean Classifier\", weight = \"bold\")\n",
    "disp.plot(ax=ax)"
   ]
  },
  {
   "cell_type": "code",
   "execution_count": 17,
   "id": "22e46f11",
   "metadata": {},
   "outputs": [
    {
     "name": "stdout",
     "output_type": "stream",
     "text": [
      "Evaluation Report for 1NN Euclidean evaluation:\n",
      "              precision    recall  f1-score   support\n",
      "\n",
      "           1       0.91      0.91      0.91        22\n",
      "           2       0.82      0.95      0.88        19\n",
      "           3       1.00      0.82      0.90        17\n",
      "\n",
      "    accuracy                           0.90        58\n",
      "   macro avg       0.91      0.89      0.90        58\n",
      "weighted avg       0.91      0.90      0.90        58\n",
      "\n"
     ]
    }
   ],
   "source": [
    "# Get report of values\n",
    "report = classification_report(ts_test_classes, class_predic_euclid, target_names = [\"1\",\"2\",\"3\"]) # set labels to what we want\n",
    "print(\"Evaluation Report for 1NN Euclidean evaluation:\\n{}\".format(report))  # print report to the screen"
   ]
  },
  {
   "cell_type": "markdown",
   "id": "80ca44e7",
   "metadata": {},
   "source": [
    "#### Summary of comparison of 1NN-DTW to 1NN-Euclidean\n",
    "When comparing the performance of the 1NN-DTW classifier to a 1NN-Manhattan classifier, the accuracies are the same (with a window size of 0). Both classifiers achieve an overall accuracy of 0.88. \n",
    "\n",
    "The accuracy is slightly improved for a 1NN-Euclidean classifier (0.90) which seems to be superior at correctly classifying time series data which possess the class 3 time series motif. The precision and recall values are 0.08 and 0.09; higher than for the 1NN-DTW and 1NN-Manhattan classifiers. However, the recall on data with the class 2 motif has decreased by 0.05\n",
    "\n",
    "#### Comparison of 1NN-DTW to 1NN-Manhattan\n",
    "The accuracies are identical between the DTW and the manhattan classifier as the DTW function considers absolute distance between two points, not the straight line distance in the case of a euclidean classifier."
   ]
  },
  {
   "cell_type": "markdown",
   "id": "f4dca5c4",
   "metadata": {},
   "source": [
    "### 4. Find the best value for the window parameter for this dataset."
   ]
  },
  {
   "cell_type": "code",
   "execution_count": 18,
   "id": "6a348740",
   "metadata": {},
   "outputs": [],
   "source": [
    "# Set up a dictionary\n",
    "w_acc = dict()\n",
    "\n",
    "# cycle through a range of values for warping\n",
    "for w in range(0,15):\n",
    "    # initialise a list for each iteration\n",
    "    predicted_classes = list()\n",
    "    \n",
    "    # For each query point\n",
    "    for i in range(0,len(ts_test)):\n",
    "        \n",
    "        # initialise the query\n",
    "        query = ts_test[i] \n",
    "        # Get the predicted class based on our pre-defined function\n",
    "        y_dash = DTW_NN(query = query, df = ts_train, window = w, class_train=ts_train_classes)[0] # just get the class here\n",
    "        \n",
    "        # Append the value to a list\n",
    "        predicted_classes.append(y_dash)\n",
    "    # Calculate the confusion matrix\n",
    "    confusion = confusion_matrix(ts_test_classes, predicted_classes)\n",
    "    # Get the accuracy\n",
    "    acc = confusion[0][0] + confusion[1][1] + confusion[2][2]\n",
    "    acc = acc / ts_test.shape[0]\n",
    "    # Set the warping value = to the accuracy in the dictionary.\n",
    "    w_acc[w] = round(acc,2)"
   ]
  },
  {
   "cell_type": "code",
   "execution_count": 19,
   "id": "b03a933b",
   "metadata": {},
   "outputs": [
    {
     "name": "stdout",
     "output_type": "stream",
     "text": [
      "A window size of 0 yielded an overall accuracy of 0.88\n",
      "A window size of 1 yielded an overall accuracy of 0.88\n",
      "A window size of 2 yielded an overall accuracy of 0.88\n",
      "A window size of 3 yielded an overall accuracy of 0.93\n",
      "A window size of 4 yielded an overall accuracy of 0.95\n",
      "A window size of 5 yielded an overall accuracy of 0.97\n",
      "A window size of 6 yielded an overall accuracy of 0.98\n",
      "A window size of 7 yielded an overall accuracy of 0.97\n",
      "A window size of 8 yielded an overall accuracy of 0.97\n",
      "A window size of 9 yielded an overall accuracy of 0.97\n",
      "A window size of 10 yielded an overall accuracy of 0.97\n",
      "A window size of 11 yielded an overall accuracy of 0.97\n",
      "A window size of 12 yielded an overall accuracy of 0.97\n",
      "A window size of 13 yielded an overall accuracy of 0.97\n",
      "A window size of 14 yielded an overall accuracy of 0.97\n",
      "The best window size for this data is 6\n"
     ]
    }
   ],
   "source": [
    "# For each entry in the dictionary\n",
    "for element in w_acc:\n",
    "    # Print the key and value pair\n",
    "    print(f'A window size of {element} yielded an overall accuracy of {w_acc[element]}')\n",
    "print(f'The best window size for this data is {max(w_acc.items(), key=lambda x: x[1])[0]}')"
   ]
  },
  {
   "cell_type": "markdown",
   "id": "203c9da9",
   "metadata": {},
   "source": [
    "#### Evaluating 1NN-DTW with the warping paramater set to 6"
   ]
  },
  {
   "cell_type": "code",
   "execution_count": 20,
   "id": "786da22e",
   "metadata": {},
   "outputs": [
    {
     "data": {
      "text/plain": [
       "<sklearn.metrics._plot.confusion_matrix.ConfusionMatrixDisplay at 0x268f0e02040>"
      ]
     },
     "execution_count": 20,
     "metadata": {},
     "output_type": "execute_result"
    },
    {
     "data": {
      "image/png": "[encoded data removed]",
      "text/plain": [
       "<Figure size 216x216 with 2 Axes>"
      ]
     },
     "metadata": {
      "needs_background": "light"
     },
     "output_type": "display_data"
    }
   ],
   "source": [
    "# View confusion matrix and evaluation metrics at a window size of 6\n",
    "# Repeat as above but change window to 6\n",
    "predicted_classes = list() # initialise a list which will collect our class values\n",
    "\n",
    "\n",
    "for i in range(0,len(ts_test)): # cycle through the test dataset\n",
    "    query = ts_test[i]  # get the array\n",
    "    y_dash = DTW_NN(query = query, df = ts_train, window = 6, class_train=ts_train_classes)[0] #  0 just to get the class here\n",
    "    predicted_classes.append(y_dash) # append the predicted class to our list\n",
    "dtw_6_classes = np.array(predicted_classes) # convert to a numpy array (may be important in confusion matrix) \n",
    "\n",
    "# --------------------------------------------------------------------------------------------------------\n",
    "# Confusion matrix\n",
    "confusion_dtw = confusion_matrix(ts_test_classes, dtw_6_classes) # compute the confusion matrix\n",
    "disp = ConfusionMatrixDisplay(confusion_dtw, display_labels=[1,2,3])\n",
    "fig, ax = plt.subplots(figsize=(3,3))\n",
    "plt.suptitle(\"Confusion Matrix for 1NN-DTW Classifier (window paramater = 6)\", weight = \"bold\")\n",
    "disp.plot(ax=ax)"
   ]
  },
  {
   "cell_type": "code",
   "execution_count": 21,
   "id": "2734e0ab",
   "metadata": {},
   "outputs": [
    {
     "name": "stdout",
     "output_type": "stream",
     "text": [
      "Evaluation Report for 1NN-DTW Classifier (window paramater = 6) :\n",
      "              precision    recall  f1-score   support\n",
      "\n",
      "           1       1.00      1.00      1.00        22\n",
      "           2       0.95      1.00      0.97        19\n",
      "           3       1.00      0.94      0.97        17\n",
      "\n",
      "    accuracy                           0.98        58\n",
      "   macro avg       0.98      0.98      0.98        58\n",
      "weighted avg       0.98      0.98      0.98        58\n",
      "\n"
     ]
    }
   ],
   "source": [
    "# Get report of values\n",
    "report = classification_report(ts_test_classes, dtw_6_classes, target_names = [\"1\",\"2\",\"3\"]) # set labels to what we want\n",
    "print(\"Evaluation Report for 1NN-DTW Classifier (window paramater = 6) :\\n{}\".format(report))  # print report to the screen"
   ]
  },
  {
   "cell_type": "markdown",
   "id": "df58c9a1",
   "metadata": {},
   "source": [
    "#### Broad discussion on window size of 6\n",
    "As is stated above, the best window size for this dataset is a window size of 6. This yielded an accuracy of 0.98 after which no further improvement was made. The __accuracy increased slowly as the amount of warping increased but decreased after a value of 6 and plateaued at an accuracy of 97__%. Moreover, as was mentioned above, as the dataset is reasonably balanced, accuracy is a suitable metric on which to judge this classifier on.\n",
    "\n",
    "#### Detailed examination of evaluation report\n",
    "The classifier is 100% correct at classifying time series data types with the class 1 motif having a precision, recall and f1 score of 1. The recall for time series data types with the class 2 motif is 1 and precision is 0.95. The precision for class 3 data types is 1 and recall is 0.95. The f1 score is equal for class 2 and class 3 time series data types. __In summary, out of all 58 query data points, with a window size of 6, the 1NN DTW Classifier only misclassified one query yielding an overall accuracy of 98%.__"
   ]
  },
  {
   "cell_type": "markdown",
   "id": "20f9aa5a",
   "metadata": {},
   "source": [
    "## Task 2: k-NN DTW\n",
    "### 1. Adapt the DTW code provided so that it can be incorporated  in a scikit-learn k-NN  classifier"
   ]
  },
  {
   "cell_type": "code",
   "execution_count": 22,
   "id": "44da1b87",
   "metadata": {},
   "outputs": [
    {
     "data": {
      "text/html": [
       "<style>#sk-container-id-1 {color: black;background-color: white;}#sk-container-id-1 pre{padding: 0;}#sk-container-id-1 div.sk-toggleable {background-color: white;}#sk-container-id-1 label.sk-toggleable__label {cursor: pointer;display: block;width: 100%;margin-bottom: 0;padding: 0.3em;box-sizing: border-box;text-align: center;}#sk-container-id-1 label.sk-toggleable__label-arrow:before {content: \"▸\";float: left;margin-right: 0.25em;color: #696969;}#sk-container-id-1 label.sk-toggleable__label-arrow:hover:before {color: black;}#sk-container-id-1 div.sk-estimator:hover label.sk-toggleable__label-arrow:before {color: black;}#sk-container-id-1 div.sk-toggleable__content {max-height: 0;max-width: 0;overflow: hidden;text-align: left;background-color: #f0f8ff;}#sk-container-id-1 div.sk-toggleable__content pre {margin: 0.2em;color: black;border-radius: 0.25em;background-color: #f0f8ff;}#sk-container-id-1 input.sk-toggleable__control:checked~div.sk-toggleable__content {max-height: 200px;max-width: 100%;overflow: auto;}#sk-container-id-1 input.sk-toggleable__control:checked~label.sk-toggleable__label-arrow:before {content: \"▾\";}#sk-container-id-1 div.sk-estimator input.sk-toggleable__control:checked~label.sk-toggleable__label {background-color: #d4ebff;}#sk-container-id-1 div.sk-label input.sk-toggleable__control:checked~label.sk-toggleable__label {background-color: #d4ebff;}#sk-container-id-1 input.sk-hidden--visually {border: 0;clip: rect(1px 1px 1px 1px);clip: rect(1px, 1px, 1px, 1px);height: 1px;margin: -1px;overflow: hidden;padding: 0;position: absolute;width: 1px;}#sk-container-id-1 div.sk-estimator {font-family: monospace;background-color: #f0f8ff;border: 1px dotted black;border-radius: 0.25em;box-sizing: border-box;margin-bottom: 0.5em;}#sk-container-id-1 div.sk-estimator:hover {background-color: #d4ebff;}#sk-container-id-1 div.sk-parallel-item::after {content: \"\";width: 100%;border-bottom: 1px solid gray;flex-grow: 1;}#sk-container-id-1 div.sk-label:hover label.sk-toggleable__label {background-color: #d4ebff;}#sk-container-id-1 div.sk-serial::before {content: \"\";position: absolute;border-left: 1px solid gray;box-sizing: border-box;top: 0;bottom: 0;left: 50%;z-index: 0;}#sk-container-id-1 div.sk-serial {display: flex;flex-direction: column;align-items: center;background-color: white;padding-right: 0.2em;padding-left: 0.2em;position: relative;}#sk-container-id-1 div.sk-item {position: relative;z-index: 1;}#sk-container-id-1 div.sk-parallel {display: flex;align-items: stretch;justify-content: center;background-color: white;position: relative;}#sk-container-id-1 div.sk-item::before, #sk-container-id-1 div.sk-parallel-item::before {content: \"\";position: absolute;border-left: 1px solid gray;box-sizing: border-box;top: 0;bottom: 0;left: 50%;z-index: -1;}#sk-container-id-1 div.sk-parallel-item {display: flex;flex-direction: column;z-index: 1;position: relative;background-color: white;}#sk-container-id-1 div.sk-parallel-item:first-child::after {align-self: flex-end;width: 50%;}#sk-container-id-1 div.sk-parallel-item:last-child::after {align-self: flex-start;width: 50%;}#sk-container-id-1 div.sk-parallel-item:only-child::after {width: 0;}#sk-container-id-1 div.sk-dashed-wrapped {border: 1px dashed gray;margin: 0 0.4em 0.5em 0.4em;box-sizing: border-box;padding-bottom: 0.4em;background-color: white;}#sk-container-id-1 div.sk-label label {font-family: monospace;font-weight: bold;display: inline-block;line-height: 1.2em;}#sk-container-id-1 div.sk-label-container {text-align: center;}#sk-container-id-1 div.sk-container {/* jupyter's `normalize.less` sets `[hidden] { display: none; }` but bootstrap.min.css set `[hidden] { display: none !important; }` so we also need the `!important` here to be able to override the default hidden behavior on the sphinx rendered scikit-learn.org. See: https://github.com/scikit-learn/scikit-learn/issues/21755 */display: inline-block !important;position: relative;}#sk-container-id-1 div.sk-text-repr-fallback {display: none;}</style><div id=\"sk-container-id-1\" class=\"sk-top-container\"><div class=\"sk-text-repr-fallback\"><pre>KNeighborsClassifier(metric=&lt;function dtw at 0x00000268F056FA60&gt;,\n",
       "                     metric_params={&#x27;window&#x27;: 6}, n_neighbors=1)</pre><b>In a Jupyter environment, please rerun this cell to show the HTML representation or trust the notebook. <br />On GitHub, the HTML representation is unable to render, please try loading this page with nbviewer.org.</b></div><div class=\"sk-container\" hidden><div class=\"sk-item\"><div class=\"sk-estimator sk-toggleable\"><input class=\"sk-toggleable__control sk-hidden--visually\" id=\"sk-estimator-id-1\" type=\"checkbox\" checked><label for=\"sk-estimator-id-1\" class=\"sk-toggleable__label sk-toggleable__label-arrow\">KNeighborsClassifier</label><div class=\"sk-toggleable__content\"><pre>KNeighborsClassifier(metric=&lt;function dtw at 0x00000268F056FA60&gt;,\n",
       "                     metric_params={&#x27;window&#x27;: 6}, n_neighbors=1)</pre></div></div></div></div></div>"
      ],
      "text/plain": [
       "KNeighborsClassifier(metric=<function dtw at 0x00000268F056FA60>,\n",
       "                     metric_params={'window': 6}, n_neighbors=1)"
      ]
     },
     "execution_count": 22,
     "metadata": {},
     "output_type": "execute_result"
    }
   ],
   "source": [
    "# Metric paramater\n",
    "#If metric is a callable function, it takes two arrays representing 1D vectors as inputs and \n",
    "    #must return one value indicating the distance between those vectors. \n",
    "    #This works for Scipy’s metrics, but is less efficient than passing the metric name as a string.\n",
    "DTW_KNN_classifier = KNeighborsClassifier(n_neighbors= 1, \n",
    "                                          metric=dtw, # specify our dtw function as the metrix\n",
    "                                          metric_params={\"window\":6}) # specify key paramaters in the function (key warping paramater)\n",
    "DTW_KNN_classifier.fit(ts_train, ts_train_classes)"
   ]
  },
  {
   "cell_type": "markdown",
   "id": "c7df38d0",
   "metadata": {},
   "source": [
    "#### Summary of function\n",
    "Here we have adapted the DTW code to fit into scikit-learn knn classifier. The function which enabled this was the metric paramater in the KNeighborsClassifier function. We can __modify specific paramaters__ of the user defined distance metric function such as the `window` parmater (here 6) by using the `metric_params`. We can also __alter the basic paramaters__ offered by the Scikit learn KNeighborsClassifier function such as `n_neightbours` (here 1). "
   ]
  },
  {
   "cell_type": "markdown",
   "id": "7a3ae54a",
   "metadata": {},
   "source": [
    "### 2. Test the performance of this classifier and compare with the 1-NN results from Task 1. Verify that the 1-NN results are consistent. "
   ]
  },
  {
   "cell_type": "markdown",
   "id": "0fea7cb8",
   "metadata": {},
   "source": [
    "#### Verify that 1NN results are consistent"
   ]
  },
  {
   "cell_type": "code",
   "execution_count": 23,
   "id": "27e683da",
   "metadata": {},
   "outputs": [
    {
     "data": {
      "text/plain": [
       "<sklearn.metrics._plot.confusion_matrix.ConfusionMatrixDisplay at 0x268f0f705e0>"
      ]
     },
     "execution_count": 23,
     "metadata": {},
     "output_type": "execute_result"
    },
    {
     "data": {
      "image/png": "[encoded data removed]",
      "text/plain": [
       "<Figure size 216x216 with 2 Axes>"
      ]
     },
     "metadata": {
      "needs_background": "light"
     },
     "output_type": "display_data"
    }
   ],
   "source": [
    "# Predict the class function on the test set\n",
    "class_predic_dtw = DTW_KNN_classifier.predict(ts_test)\n",
    "confusion_dtw = confusion_matrix(ts_test_classes, class_predic_dtw) # compute the confusion matrix\n",
    "disp = ConfusionMatrixDisplay(confusion_dtw, display_labels=[1,2,3])\n",
    "fig, ax = plt.subplots(figsize=(3,3))\n",
    "plt.suptitle(\"Confusion Matrix for 1NN-DTW Scikit-learn Classifier (window paramater = 6)\", weight = \"bold\")\n",
    "disp.plot(ax=ax)"
   ]
  },
  {
   "cell_type": "markdown",
   "id": "97de5da7",
   "metadata": {},
   "source": [
    "What we can see here is that for a window/warping size of 6 (optimal one for this dataset) and for classifying the test data based only on the nearest neighbor, the __results are identical to the DTW classifier implemented in Task 1.__ Hence, we have successfully implemented the DTW function into a scikit-learn knn classifier."
   ]
  },
  {
   "cell_type": "markdown",
   "id": "f3a32d24",
   "metadata": {},
   "source": [
    "#### Performance of classifier: Compare with 1NN results"
   ]
  },
  {
   "cell_type": "code",
   "execution_count": 24,
   "id": "eddb8eea",
   "metadata": {},
   "outputs": [
    {
     "name": "stdout",
     "output_type": "stream",
     "text": [
      "Setting a neighbour value of 1, with a window size of 6 yielded an accuracy of 0.9828\n",
      "Setting a neighbour value of 2, with a window size of 6 yielded an accuracy of 0.9828\n",
      "Setting a neighbour value of 3, with a window size of 6 yielded an accuracy of 0.931\n",
      "Setting a neighbour value of 4, with a window size of 6 yielded an accuracy of 0.9828\n",
      "Setting a neighbour value of 5, with a window size of 6 yielded an accuracy of 0.9655\n",
      "Setting a neighbour value of 6, with a window size of 6 yielded an accuracy of 0.9655\n",
      "Setting a neighbour value of 7, with a window size of 6 yielded an accuracy of 0.9483\n",
      "Setting a neighbour value of 8, with a window size of 6 yielded an accuracy of 0.9655\n"
     ]
    }
   ],
   "source": [
    "neighbors = [1,2,3,4,5,6,7,8] # list to cycle through\n",
    "for n in neighbors:\n",
    "    DTW_KNN_classifier = KNeighborsClassifier(n_neighbors= n, # neighbours consider\n",
    "                                              metric=dtw, # specify our dtw function as the metric\n",
    "                                              metric_params={\"window\":6}, # optimum window paramater for hold-out testing set\n",
    "                                              weights=\"distance\") # Weight vote based on location to data\n",
    "    \n",
    "    # Fit to our train\n",
    "    DTW_KNN_classifier.fit(ts_train, ts_train_classes)\n",
    "    # Predict on test set\n",
    "    class_predic_dtw = DTW_KNN_classifier.predict(ts_test)\n",
    "   \n",
    "    # Calculate the accuracy - compare to true\n",
    "    # X = test set\n",
    "    # Y = true labels for X\n",
    "    accu = DTW_KNN_classifier.score(ts_test, ts_test_classes) \n",
    "    accu = round(accu,4) # round the accuracy\n",
    "    print(f'Setting a neighbour value of {n}, with a window size of 6 yielded an accuracy of {accu}') # print it to the screen  "
   ]
  },
  {
   "cell_type": "markdown",
   "id": "9d9833eb",
   "metadata": {},
   "source": [
    "In general, the accuracy of the K-NN DTW classifier decreases slightly as the number of neighbours increases. Hence, __including more neighbours into the classification algorithm does not improve the overall accuracy of the classifier.__ \n",
    "\n",
    "Moreover based on the above analysis, by selecting the optimum value for the `window` paramater, it would appear that a key component in determining the effectiveness of this DTW classifier is infact the `window` paramater. \n",
    "\n",
    "Finally, to avoid instances where a tie was incurred (e.g. a queries nearest neighbour was an example point classed as 1 and another classed as class2), the `weights` paramater was specified to weight each neighbors vote based on how close they are to the query example to avoid random guessing (default).  "
   ]
  },
  {
   "cell_type": "markdown",
   "id": "06d9bb8c",
   "metadata": {},
   "source": [
    "### 3. Compare with k-NN Euclidean"
   ]
  },
  {
   "cell_type": "code",
   "execution_count": 25,
   "id": "c277dc88",
   "metadata": {},
   "outputs": [
    {
     "name": "stdout",
     "output_type": "stream",
     "text": [
      "Neighbour = 1, Accuracy = 0.8966\n",
      "Neighbour = 2, Accuracy = 0.8966\n",
      "Neighbour = 3, Accuracy = 0.8793\n",
      "Neighbour = 4, Accuracy = 0.8966\n",
      "Neighbour = 5, Accuracy = 0.8621\n",
      "Neighbour = 6, Accuracy = 0.8621\n",
      "Neighbour = 7, Accuracy = 0.8448\n",
      "Neighbour = 8, Accuracy = 0.8276\n"
     ]
    }
   ],
   "source": [
    "neighbors = [1,2,3,4,5,6,7,8] # list to cycle through\n",
    "for n in neighbors: \n",
    "    # p=2 is required for Euclidean distance\n",
    "    euclid_KNN = KNeighborsClassifier(n_neighbors=n, \n",
    "                                      p = 2,\n",
    "                                      weights = \"distance\",# weight distance so that classes arent assigned as random\n",
    "                                      metric= \"euclidean\") # metric of interest\n",
    "    euclid_KNN.fit(ts_train, ts_train_classes) # fit it to the training data\n",
    "    class_predic_euclid = euclid_KNN.predict(ts_test)\n",
    "    accu = euclid_KNN.score(ts_test, ts_test_classes)\n",
    "    accu = round(accu,4)\n",
    "    print(f'Neighbour = {n}, Accuracy = {accu}')"
   ]
  },
  {
   "cell_type": "markdown",
   "id": "ecd0b6c5",
   "metadata": {},
   "source": [
    "The KNN Euclidean classifier also decreases in accuracy as the number of neighbours increases but returns to its maximum accuracy at n = 4 before decreasing again. \n",
    "\n",
    "The trend overall is similar to the k-NN DTW classifier in that accuracy decreases as the number of neighbours included increases. \n",
    "\n",
    "Nonetheless, the overall accuracy for classifying the test set is still quite high (>0.82 for all neighbours tested) but lower in comparison to the k-NN DTW classifier (> 0.93 for all neighbours tested). \n",
    "\n",
    "However, for both classifiers, it appears a neighbor size of 1 is the optimum number to use for this dataset."
   ]
  },
  {
   "cell_type": "markdown",
   "id": "6a5f09b4",
   "metadata": {},
   "source": [
    "#### Cross Validation Comparison\n",
    "The hold out strategy conduct heretofore may be limited for a number of reasons. \n",
    "\n",
    "- Accuracy may be underestimated/overestimated due to an unfortuante/fortunate split in the data. \n",
    "- Moreover, in hold out testing, accuracy will increase as training size increases, hence cross fold validation may be more suitable to compare models as we have lost 40% of our data to the test set already. \n",
    "- Also, cross validation gives us a __stable estimate__ of accuracy as we are averaging accross multiple folds and are hence reducing the variance in the accuracy estimate. It could also be possible to employ a leave one out cross validation but the computational time required to do this, especially when adjusting the `warping` paramater is high."
   ]
  },
  {
   "cell_type": "code",
   "execution_count": 26,
   "id": "1eccd064",
   "metadata": {},
   "outputs": [
    {
     "name": "stdout",
     "output_type": "stream",
     "text": [
      "8 x CV 1NN-Euclidean 0.832\n",
      "8 x CV 1NN-DTW       0.728\n",
      "8 x CV 1NN-DTW       with optimum warping (11) 0.902\n"
     ]
    }
   ],
   "source": [
    "from sklearn.model_selection import cross_val_score, KFold\n",
    "folds = 8\n",
    "# Set up a dictionary\n",
    "w_acc = dict()\n",
    "\n",
    "# cycle through a range of values for warping\n",
    "for w in range(0,15):\n",
    "    # create KNN objects based on results heretofore\n",
    "    # Set n = 1 as above this was shown to be the best performing neighbor value for both datasets\n",
    "    euclid_KNN_CV = KNeighborsClassifier(n_neighbors=1, p = 2, metric = \"euclidean\")\n",
    "    DTW_KNN_CV = KNeighborsClassifier(n_neighbors= 1, metric=dtw, # specify our dtw function as the metric\n",
    "                                   metric_params={\"window\":w} # keep assess warping, too long to test every possible window\n",
    "                                     )  \n",
    "\n",
    "    models = [euclid_KNN_CV, DTW_KNN_CV] # set up models\n",
    "    names = [\"1NN-Euclidean\", \"1NN-DTW      \"] #set up names for reporting \n",
    "    mod = -1\n",
    "    for m in models:\n",
    "        mod += 1\n",
    "        name = names[mod]\n",
    "        acc_scores = cross_val_score(m, # model\n",
    "                                     ts_values, # all the values - these will be split \n",
    "                                     ts_classes, # all the classes  - these will be split\n",
    "                                     scoring=\"accuracy\", n_jobs = 5)\n",
    "        if mod == 1:\n",
    "            w_acc[w] = round(acc_scores.mean(), 3)\n",
    "        if w == 0:\n",
    "            print(f'{folds} x CV {name} {round(acc_scores.mean(),3)}')\n",
    "        elif w == 14 and mod == 1:\n",
    "            print(f'{folds} x CV {name} with optimum warping ({max(w_acc.items(), key=lambda x: x[1])[0]}) {max(w_acc.items(), key=lambda x: x[1])[1]}')"
   ]
  },
  {
   "cell_type": "markdown",
   "id": "6896d213",
   "metadata": {},
   "source": [
    "The overall 8 Fold cross validation accuracy of the 1NN-DTW with one neighbour and a warping value of 0 was 0.728 which is significantly less than the accuracy obtained from the 1NN-Euclidean Classifier (0.832). However, with an optimum wapring value of 11, the overall accuracy of the 1NN-DTW (0.902) is far better than the 1NN-Euclidean classifier. Note, a `n-neighbor` value of 1 was selected here for comparison based on previous analysis above. It is interesting that the optimum warping paramater value changed for this CV task. \n",
    "\n",
    "However, the overall average accuracy is lower in comparison to the hold-out-testing approach which we have delt with heretofore for both models which would suggest that the initial hold-out-testing approach overestimated the accuracy of the classifiers. \n",
    "\n",
    "This accuracy (0.902) of the DTW classifier and the cross-validation accuracy of the Euclidean classifier (0.832) are probably more realistic estimates of each model's accuracy respectively."
   ]
  },
  {
   "cell_type": "markdown",
   "id": "7760ec20",
   "metadata": {},
   "source": [
    "## Conclusion\n",
    "- We have built a 1NN-DTW classifier which can classify time series data via the implementation of a Dynamic time warp function. \n",
    "- We implemented the function as a scikit-learn K-NN classifier and compared it to a 1NN Manhattan and 1NN Euclidean classifier. We found that the accuracy of the 1NN-DTW classifier was identical to the 1NN Manhattan classifier as the original DTW function calculates the _absolute_ distance between 2 points and not the straight line distance as is employed in a euclidean classifyer.\n",
    "- We evaluated the performance of the model using a range of evaluation metrics, including overall accuracy and for each class, the recall, precision and f1 score. We also compared the performance of the 1NN-DTW to that of a 1NN-Euclidean and noted that the accuracy was better in the Euclidean classifier.\n",
    "- We noted that based on the test-train split via the hold-out testing strategy employed, the optimum `warping` paramater for the data was 6.\n",
    "- We observed that increasing the number of neighbours using the `n_neighbours` paramater for both the DTW and Euclidean KNN classifiers resulted in an overall decrease in accuracy. Overall, the DTW function with its adjusted `warping` paramater was more accurate at classifying unseen data correctly in comparison to the Euclidean function.\n",
    "- To mitigate against instances where the training set was too small and if the test-train split resulted in an under/overestimate of accuracy, we conducted 8-fold cross validation on the data set and noted that the accuracy of the 1NN-DTW classifier still out performed the accuracy estiamtes from the 1NN-Euclidean function but the overall accuracy was lower than when comparing to the hold-out testing strategy employed earlier. We also observed that the optimal `window` paramater for the 1NN-DTW function was altered to 11 in the CV scenario."
   ]
  }
 ],
 "metadata": {
  "kernelspec": {
   "display_name": "Python 3 (ipykernel)",
   "language": "python",
   "name": "python3"
  },
  "language_info": {
   "codemirror_mode": {
    "name": "ipython",
    "version": 3
   },
   "file_extension": ".py",
   "mimetype": "text/x-python",
   "name": "python",
   "nbconvert_exporter": "python",
   "pygments_lexer": "ipython3",
   "version": "3.9.7"
  }
 },
 "nbformat": 4,
 "nbformat_minor": 5
}
